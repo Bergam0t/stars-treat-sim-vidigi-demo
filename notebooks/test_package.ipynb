{
 "cells": [
  {
   "cell_type": "markdown",
   "id": "6b983b2d-37be-4418-a71c-3f61bcd09f82",
   "metadata": {},
   "source": [
    "# Test package\n",
    "\n",
    "This notebook is a simple test script for the simulation model."
   ]
  },
  {
   "cell_type": "code",
   "execution_count": 1,
   "id": "26512d06",
   "metadata": {},
   "outputs": [
    {
     "data": {
      "text/plain": [
       "'1.0.0'"
      ]
     },
     "execution_count": 1,
     "metadata": {},
     "output_type": "execute_result"
    }
   ],
   "source": [
    "import treat_sim\n",
    "treat_sim.__version__"
   ]
  },
  {
   "cell_type": "markdown",
   "id": "b67e319d-7f3f-42a2-9f2e-176a6bbb0a43",
   "metadata": {},
   "source": [
    "# Aggregate test: run all scenarios"
   ]
  },
  {
   "cell_type": "code",
   "execution_count": null,
   "id": "cf77eab0-8038-4e89-b0a8-abae02c61046",
   "metadata": {},
   "outputs": [],
   "source": [
    "from treat_sim.model import (get_scenarios, run_scenario_analysis,\n",
    "                             scenario_summary_frame, \n",
    "                             DEFAULT_RESULTS_COLLECTION_PERIOD)"
   ]
  },
  {
   "cell_type": "code",
   "execution_count": null,
   "id": "a4427a5c-a048-4e78-81ad-9a72a62b982f",
   "metadata": {},
   "outputs": [],
   "source": [
    "results = run_scenario_analysis(get_scenarios(), DEFAULT_RESULTS_COLLECTION_PERIOD,\n",
    "                                n_reps=50)"
   ]
  },
  {
   "cell_type": "code",
   "execution_count": null,
   "id": "42d1d046-102e-4edc-8f22-98ea40429e27",
   "metadata": {},
   "outputs": [],
   "source": [
    "scenario_summary_frame(results)"
   ]
  },
  {
   "cell_type": "markdown",
   "id": "9dacbdbe-2d3a-4eb9-b6d4-6976291ddec3",
   "metadata": {},
   "source": [
    "## Test: single scenario"
   ]
  },
  {
   "cell_type": "code",
   "execution_count": null,
   "id": "cda7e07f-7ab7-45a9-9559-62073c3a4fc0",
   "metadata": {},
   "outputs": [],
   "source": [
    "from treat_sim.model import Scenario, multiple_replications"
   ]
  },
  {
   "cell_type": "code",
   "execution_count": null,
   "id": "cdb93109-1054-4493-b4c6-743d70be8a8c",
   "metadata": {},
   "outputs": [],
   "source": [
    "base_case = Scenario()"
   ]
  },
  {
   "cell_type": "code",
   "execution_count": null,
   "id": "f1b2bdd9-4015-49db-9ca7-92c32c70935e",
   "metadata": {},
   "outputs": [],
   "source": [
    "multiple_replications(base_case).describe().round(2).T"
   ]
  }
 ],
 "metadata": {
  "kernelspec": {
   "display_name": "Python 3 (ipykernel)",
   "language": "python",
   "name": "python3"
  },
  "language_info": {
   "codemirror_mode": {
    "name": "ipython",
    "version": 3
   },
   "file_extension": ".py",
   "mimetype": "text/x-python",
   "name": "python",
   "nbconvert_exporter": "python",
   "pygments_lexer": "ipython3",
   "version": "3.8.12"
  }
 },
 "nbformat": 4,
 "nbformat_minor": 5
}
